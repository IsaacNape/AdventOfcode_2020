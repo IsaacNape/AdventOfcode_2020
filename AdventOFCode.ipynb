{
 "cells": [
  {
   "cell_type": "markdown",
   "metadata": {},
   "source": [
    "# Day 1 \n"
   ]
  },
  {
   "cell_type": "code",
   "execution_count": null,
   "metadata": {},
   "outputs": [],
   "source": [
    "import numpy as np\n",
    "from itertools import permutations"
   ]
  },
  {
   "cell_type": "code",
   "execution_count": null,
   "metadata": {},
   "outputs": [],
   "source": [
    "# check if the sum is equal to the flagnum...\n",
    "def checkSum(tuple_elements, flagNum):\n",
    "    y = sum(list(tuple_elements));\n",
    "    if y==flagNum:\n",
    "       checkF = True\n",
    "    else:\n",
    "        checkF = False\n",
    "    return checkF"
   ]
  },
  {
   "cell_type": "code",
   "execution_count": null,
   "metadata": {},
   "outputs": [],
   "source": [
    "#Problem 1\n",
    "# Open file named data.txt\n",
    "data = np.loadtxt(\"data_day1.txt\", delimiter=\"\\n\", unpack = False);\n",
    "dataClone = data.copy();"
   ]
  },
  {
   "cell_type": "code",
   "execution_count": null,
   "metadata": {},
   "outputs": [],
   "source": [
    "# find all possible permutations from the given data set\n",
    "ntupleSize = 3;\n",
    "permutedData = permutations(data[:], ntupleSize)\n",
    "tsol = 1;\n",
    "for temp in list(permutedData):\n",
    "    flag = checkSum(temp, 2020)\n",
    "    if flag == True:\n",
    "        print(\"solutions,  sum , product\")\n",
    "        print(temp, sum(list(temp)), np.prod(temp))\n",
    "        break"
   ]
  },
  {
   "cell_type": "markdown",
   "metadata": {},
   "source": [
    "# Day 2"
   ]
  },
  {
   "cell_type": "code",
   "execution_count": 1,
   "metadata": {},
   "outputs": [],
   "source": [
    "import numpy as np\n",
    "import pandas as pd"
   ]
  },
  {
   "cell_type": "markdown",
   "metadata": {},
   "source": [
    "## Procedures"
   ]
  },
  {
   "cell_type": "markdown",
   "metadata": {},
   "source": [
    "## Repackage data set"
   ]
  },
  {
   "cell_type": "code",
   "execution_count": 27,
   "metadata": {},
   "outputs": [],
   "source": [
    "fname = \"data_day2_prob1.txt\"\n",
    "fdata = open(fname);\n",
    "data = fdata.readlines()\n",
    "fdata.close()"
   ]
  },
  {
   "cell_type": "code",
   "execution_count": 28,
   "metadata": {},
   "outputs": [],
   "source": [
    "# replace ''-'' and '':'' with empty spaces and split each data set into a list\n",
    "data_split = list()\n",
    "for k in np.arange(len(data)):\n",
    "    temp=data[k].replace(\"-\", ' ')\n",
    "    temp=temp.replace(\":\", '')\n",
    "    temp=temp.replace(\"\\n\", '')\n",
    "    data_split.append( temp.split(' '))\n",
    "    data_split[k][0] = int(data_split[k][0])\n",
    "    data_split[k][1] = int(data_split[k][1])"
   ]
  },
  {
   "cell_type": "markdown",
   "metadata": {},
   "source": [
    "## Problem 1"
   ]
  },
  {
   "cell_type": "code",
   "execution_count": 13,
   "metadata": {},
   "outputs": [],
   "source": [
    "# check if num occurences is within given specifications\n",
    "def checkduplicates(minCount, maxCount,  charac, InpPassword):\n",
    "    char_count = InpPassword.count(charac);\n",
    "    flag = 0\n",
    "    if (char_count >= minCount)  and (char_count <= maxCount):\n",
    "        flag = 1\n",
    "    return flag"
   ]
  },
  {
   "cell_type": "code",
   "execution_count": 14,
   "metadata": {},
   "outputs": [
    {
     "name": "stdout",
     "output_type": "stream",
     "text": [
      "There are 465 valid passwords\n"
     ]
    }
   ],
   "source": [
    "# find number of correct passwords \n",
    "totalCorrectpass = 0;\n",
    "for x in data_split:\n",
    "    totalCorrectpass += checkduplicates(x[0], x[1], x[2], x[3])\n",
    "print(\"There are\", totalCorrectpass, \"valid passwords\")\n",
    "    "
   ]
  },
  {
   "cell_type": "markdown",
   "metadata": {},
   "source": [
    "## Problem 2 \n"
   ]
  },
  {
   "cell_type": "code",
   "execution_count": 42,
   "metadata": {},
   "outputs": [],
   "source": [
    "# check if num occurences is within given specifications\n",
    "def checkduplicates_ind(idx1, idx2,  charac, InpPassword):\n",
    "    passSize = len(InpPassword);\n",
    "    flag1 = 0\n",
    "    flag2 = 0\n",
    "    if (idx1<passSize):\n",
    "        if (charac == InpPassword[idx1]):\n",
    "            flag1 = 1\n",
    "    if (idx2<passSize):\n",
    "        if(charac == InpPassword[idx2]):\n",
    "            flag2 = 1\n",
    "    \n",
    "    temp = flag1 + flag2 \n",
    "    \n",
    "    if temp == 2 or temp==0:\n",
    "        flag = 0\n",
    "    else:\n",
    "        flag = 1;\n",
    "        \n",
    "    return flag\n",
    "        "
   ]
  },
  {
   "cell_type": "code",
   "execution_count": 43,
   "metadata": {},
   "outputs": [
    {
     "name": "stdout",
     "output_type": "stream",
     "text": [
      "There are 294 valid passwords\n"
     ]
    }
   ],
   "source": [
    "totalCorrectpass = 0;\n",
    "for x in data_split:\n",
    "    totalCorrectpass += checkduplicates_ind(x[0]-1, x[1]-1, x[2], x[3])\n",
    "print(\"There are\", totalCorrectpass, \"valid passwords\")"
   ]
  },
  {
   "cell_type": "code",
   "execution_count": null,
   "metadata": {},
   "outputs": [],
   "source": []
  }
 ],
 "metadata": {
  "kernelspec": {
   "display_name": "Python 3",
   "language": "python",
   "name": "python3"
  },
  "language_info": {
   "codemirror_mode": {
    "name": "ipython",
    "version": 3
   },
   "file_extension": ".py",
   "mimetype": "text/x-python",
   "name": "python",
   "nbconvert_exporter": "python",
   "pygments_lexer": "ipython3",
   "version": "3.7.6"
  }
 },
 "nbformat": 4,
 "nbformat_minor": 4
}
